{
 "cells": [
  {
   "cell_type": "code",
   "execution_count": 1,
   "id": "600a3651",
   "metadata": {},
   "outputs": [
    {
     "name": "stdout",
     "output_type": "stream",
     "text": [
      "Intel MKL WARNING: Support of Intel(R) Streaming SIMD Extensions 4.2 (Intel(R) SSE4.2) enabled only processors has been deprecated. Intel oneAPI Math Kernel Library 2025.0 will require Intel(R) Advanced Vector Extensions (Intel(R) AVX) instructions.\n",
      "Intel MKL WARNING: Support of Intel(R) Streaming SIMD Extensions 4.2 (Intel(R) SSE4.2) enabled only processors has been deprecated. Intel oneAPI Math Kernel Library 2025.0 will require Intel(R) Advanced Vector Extensions (Intel(R) AVX) instructions.\n",
      "Initiating login request with your identity provider. A browser window should have opened for you to complete the login. If you can't see it, check existing browser windows, or your OS settings. Press CTRL+C to abort and try again...\n",
      "Going to open: https://chewy.okta.com/app/snowflake/exkmzig18yW58r3j00x7/sso/saml?SAMLRequest=lZJfb9owFMW%2FSuQ9J3YoFLCAisEQSKygJqyibyYxYHDs1NchYZ9%2BDn%2Bm7qGV9hY55%2Fh3fM%2FtPVWZ9E7cgNCqj8KAII%2BrRKdC7fpoFU%2F8DvLAMpUyqRXvozMH9DToActkToeF3asX%2Fl5wsJ67SAGtf%2FRRYRTVDARQxTIO1CY0Gv6c00ZAKAPgxjocullSEI61tzanGJdlGZQPgTY73CCEYNLFTlVLvqEPiPxrRm601YmWd0vl3vQJIsSkWSOcwhGWN%2BN3oa4j%2BIqyuYqATuN46S8XUYy84f11I62gyLiJuDmJhK9e5tcA4BKMpj9e10EBPmdg%2FTAApcutZEee6CwvrLszcF94y1Ms9U64Sc3GfZQfRRodzFpE4yyL1jpZPZ7m%2B%2FZss4NVezI9dd%2Br%2FWJzWBzn3fRN6gR5v%2B69NupeZwAFn6m6TeuOSKPpk0eftOKwSVtt2ugErQ55Q97YtSkUsxfnPXKy5%2BU50EfLLtFYnuO%2FqTGvjtlvsQs759dWxzwcCKnaGEDjuip03RZ6wZvB%2F82ghz96b2v37JqYjZdaiuTsTbTJmP28qDAILyci9bcXKeUZE3KYpoYDuMKk1OXIcGbddltTcIQHV%2Bq%2F%2Bz34Aw%3D%3D&RelayState=62230 to authenticate...\n"
     ]
    }
   ],
   "source": [
    "import snowflake.connector as sf\n",
    "\n",
    "ctx = sf.connect(\n",
    "    user='mgupta1@chewy.com', # chewy email address\n",
    "    autocommit = 0,\n",
    "    authenticator= \"externalbrowser\",\n",
    "    role= \"MRCH_USER_MARGIN\",\n",
    "    database= \"EDLDB\",\n",
    "    warehouse= \"MRCH_XL_WH\",\n",
    "    account='chewy.us-east-1'\n",
    "    )\n",
    "cs = ctx.cursor()"
   ]
  },
  {
   "cell_type": "code",
   "execution_count": 2,
   "id": "2f5df5e1",
   "metadata": {},
   "outputs": [],
   "source": [
    "import pandas as pd"
   ]
  },
  {
   "cell_type": "code",
   "execution_count": 3,
   "id": "5a425523",
   "metadata": {
    "scrolled": false
   },
   "outputs": [],
   "source": [
    "merged_data = pd.read_csv(\"new_cohort.csv\")\n",
    "# model2_results = pd.read_csv(\"model2_result.csv\")\n",
    "# model3_results = pd.read_csv(\"model3_result.csv\")\n",
    "\n",
    "# combined_results = model1_results.merge(model2_results , on = 'CUSTOMER_ID' , how = 'left').merge(model3_results , on = 'CUSTOMER_ID' , how = 'left')\n",
    "# for cols in [\"PROMOTION_REQUIRED_FLAG\" , \"REACTIVATION_FLAG\"] :\n",
    "#     combined_results[cols] = combined_results[cols].astype(bool)"
   ]
  },
  {
   "cell_type": "code",
   "execution_count": 4,
   "id": "6e3b434f",
   "metadata": {},
   "outputs": [
    {
     "data": {
      "text/plain": [
       "Index(['Unnamed: 0', 'BUCKETS', 'REGULAR_FLAG', 'CONSISTENT_FLAG',\n",
       "       'CUSTOMER_ID', 'Flag'],\n",
       "      dtype='object')"
      ]
     },
     "execution_count": 4,
     "metadata": {},
     "output_type": "execute_result"
    }
   ],
   "source": [
    "merged_data.columns"
   ]
  },
  {
   "cell_type": "code",
   "execution_count": 5,
   "id": "3860a84b",
   "metadata": {},
   "outputs": [
    {
     "data": {
      "text/plain": [
       "(7429352, 6)"
      ]
     },
     "execution_count": 5,
     "metadata": {},
     "output_type": "execute_result"
    }
   ],
   "source": [
    "merged_data.shape"
   ]
  },
  {
   "cell_type": "code",
   "execution_count": 6,
   "id": "1c90d8e0",
   "metadata": {},
   "outputs": [],
   "source": [
    "\n",
    "\n",
    "database = 'EDLDB'\n",
    "schema = 'MRCH_SANDBOX'\n",
    "table_name =  'MRCH_DS_LOYALTY_CUST_SEGMENT_META_COHORT'  \n",
    "# table_name =  'MRCH_DS_LOYALTY_CUST_SEGMENT_2_3'  "
   ]
  },
  {
   "cell_type": "code",
   "execution_count": 7,
   "id": "e77e0a21",
   "metadata": {},
   "outputs": [],
   "source": [
    "merged_data = merged_data[['REGULAR_FLAG', 'CONSISTENT_FLAG', 'BUCKETS', 'CUSTOMER_ID', \"Flag\" ]]"
   ]
  },
  {
   "cell_type": "code",
   "execution_count": 9,
   "id": "f0765800",
   "metadata": {},
   "outputs": [
    {
     "data": {
      "text/plain": [
       "REGULAR_FLAG        int64\n",
       "CONSISTENT_FLAG     int64\n",
       "BUCKETS            object\n",
       "CUSTOMER_ID         int64\n",
       "Flag               object\n",
       "dtype: object"
      ]
     },
     "execution_count": 9,
     "metadata": {},
     "output_type": "execute_result"
    }
   ],
   "source": [
    "merged_data.dtypes"
   ]
  },
  {
   "cell_type": "code",
   "execution_count": 10,
   "id": "3e6188b5",
   "metadata": {},
   "outputs": [
    {
     "name": "stderr",
     "output_type": "stream",
     "text": [
      "/var/folders/sk/kxj243qx5nb7mdp5tl3ldj540000gq/T/ipykernel_82033/1325596419.py:1: FutureWarning: Setting an item of incompatible dtype is deprecated and will raise an error in a future version of pandas. Value 'REGULAR CUSTOMER' has dtype incompatible with int64, please explicitly cast to a compatible dtype first.\n",
      "  merged_data.loc[merged_data[\"REGULAR_CUSTOMER\"] == 1 , 'REGULAR_CUSTOMER'] = \"REGULAR CUSTOMER\"\n"
     ]
    }
   ],
   "source": [
    "merged_data.loc[merged_data[\"REGULAR_CUSTOMER\"] == 1 , 'REGULAR_CUSTOMER'] = \"REGULAR CUSTOMER\"\n",
    "merged_data.loc[merged_data[\"REGULAR_CUSTOMER\"] == 0 , 'REGULAR_CUSTOMER'] = \"NON - REGULAR CUSTOMER\"\n",
    "\n",
    "# merged_data.loc[merged_data[\"Flag\"] == 'Test' , 'Flag'] = \"WAVE1_TEST\"\n",
    "# merged_data.loc[merged_data[\"Flag\"] == 'Control' , 'Flag'] = \"WAVE1_CONTROL\"\n",
    "\n",
    "merged_data.rename(columns = {\"REGULAR_CUSTOMER\" : \"TYPE\"  } , inplace = True)\n"
   ]
  },
  {
   "cell_type": "code",
   "execution_count": 11,
   "id": "ae73c14d",
   "metadata": {},
   "outputs": [
    {
     "data": {
      "text/html": [
       "<div>\n",
       "<style scoped>\n",
       "    .dataframe tbody tr th:only-of-type {\n",
       "        vertical-align: middle;\n",
       "    }\n",
       "\n",
       "    .dataframe tbody tr th {\n",
       "        vertical-align: top;\n",
       "    }\n",
       "\n",
       "    .dataframe thead th {\n",
       "        text-align: right;\n",
       "    }\n",
       "</style>\n",
       "<table border=\"1\" class=\"dataframe\">\n",
       "  <thead>\n",
       "    <tr style=\"text-align: right;\">\n",
       "      <th></th>\n",
       "      <th>TYPE</th>\n",
       "      <th>COHORT</th>\n",
       "      <th>QUARTILE</th>\n",
       "      <th>CUSTOMER_ID</th>\n",
       "      <th>Flag</th>\n",
       "      <th>WAVE</th>\n",
       "    </tr>\n",
       "  </thead>\n",
       "  <tbody>\n",
       "    <tr>\n",
       "      <th>0</th>\n",
       "      <td>NON - REGULAR CUSTOMER</td>\n",
       "      <td>COHORT_1</td>\n",
       "      <td>4</td>\n",
       "      <td>38529467</td>\n",
       "      <td>Test</td>\n",
       "      <td>2</td>\n",
       "    </tr>\n",
       "    <tr>\n",
       "      <th>1</th>\n",
       "      <td>NON - REGULAR CUSTOMER</td>\n",
       "      <td>COHORT_1</td>\n",
       "      <td>1</td>\n",
       "      <td>58484991</td>\n",
       "      <td>Control</td>\n",
       "      <td>2</td>\n",
       "    </tr>\n",
       "    <tr>\n",
       "      <th>2</th>\n",
       "      <td>NON - REGULAR CUSTOMER</td>\n",
       "      <td>COHORT_1</td>\n",
       "      <td>3</td>\n",
       "      <td>198609663</td>\n",
       "      <td>Test</td>\n",
       "      <td>2</td>\n",
       "    </tr>\n",
       "    <tr>\n",
       "      <th>3</th>\n",
       "      <td>NON - REGULAR CUSTOMER</td>\n",
       "      <td>COHORT_1</td>\n",
       "      <td>1</td>\n",
       "      <td>102819816</td>\n",
       "      <td>Test</td>\n",
       "      <td>2</td>\n",
       "    </tr>\n",
       "    <tr>\n",
       "      <th>4</th>\n",
       "      <td>REGULAR CUSTOMER</td>\n",
       "      <td>COHORT_2</td>\n",
       "      <td>1</td>\n",
       "      <td>258569276</td>\n",
       "      <td>Control</td>\n",
       "      <td>2</td>\n",
       "    </tr>\n",
       "    <tr>\n",
       "      <th>...</th>\n",
       "      <td>...</td>\n",
       "      <td>...</td>\n",
       "      <td>...</td>\n",
       "      <td>...</td>\n",
       "      <td>...</td>\n",
       "      <td>...</td>\n",
       "    </tr>\n",
       "    <tr>\n",
       "      <th>281326</th>\n",
       "      <td>REGULAR CUSTOMER</td>\n",
       "      <td>COHORT_1</td>\n",
       "      <td>2</td>\n",
       "      <td>5391134</td>\n",
       "      <td>Control</td>\n",
       "      <td>3</td>\n",
       "    </tr>\n",
       "    <tr>\n",
       "      <th>281327</th>\n",
       "      <td>NON - REGULAR CUSTOMER</td>\n",
       "      <td>COHORT_1</td>\n",
       "      <td>3</td>\n",
       "      <td>112998987</td>\n",
       "      <td>Control</td>\n",
       "      <td>3</td>\n",
       "    </tr>\n",
       "    <tr>\n",
       "      <th>281328</th>\n",
       "      <td>NON - REGULAR CUSTOMER</td>\n",
       "      <td>COHORT_1</td>\n",
       "      <td>2</td>\n",
       "      <td>91739723</td>\n",
       "      <td>Test</td>\n",
       "      <td>3</td>\n",
       "    </tr>\n",
       "    <tr>\n",
       "      <th>281329</th>\n",
       "      <td>REGULAR CUSTOMER</td>\n",
       "      <td>COHORT_1</td>\n",
       "      <td>2</td>\n",
       "      <td>17083237</td>\n",
       "      <td>Test</td>\n",
       "      <td>3</td>\n",
       "    </tr>\n",
       "    <tr>\n",
       "      <th>281330</th>\n",
       "      <td>NON - REGULAR CUSTOMER</td>\n",
       "      <td>COHORT_1</td>\n",
       "      <td>3</td>\n",
       "      <td>895708689</td>\n",
       "      <td>Test</td>\n",
       "      <td>3</td>\n",
       "    </tr>\n",
       "  </tbody>\n",
       "</table>\n",
       "<p>281331 rows × 6 columns</p>\n",
       "</div>"
      ],
      "text/plain": [
       "                          TYPE    COHORT  QUARTILE  CUSTOMER_ID     Flag  WAVE\n",
       "0       NON - REGULAR CUSTOMER  COHORT_1         4     38529467     Test     2\n",
       "1       NON - REGULAR CUSTOMER  COHORT_1         1     58484991  Control     2\n",
       "2       NON - REGULAR CUSTOMER  COHORT_1         3    198609663     Test     2\n",
       "3       NON - REGULAR CUSTOMER  COHORT_1         1    102819816     Test     2\n",
       "4             REGULAR CUSTOMER  COHORT_2         1    258569276  Control     2\n",
       "...                        ...       ...       ...          ...      ...   ...\n",
       "281326        REGULAR CUSTOMER  COHORT_1         2      5391134  Control     3\n",
       "281327  NON - REGULAR CUSTOMER  COHORT_1         3    112998987  Control     3\n",
       "281328  NON - REGULAR CUSTOMER  COHORT_1         2     91739723     Test     3\n",
       "281329        REGULAR CUSTOMER  COHORT_1         2     17083237     Test     3\n",
       "281330  NON - REGULAR CUSTOMER  COHORT_1         3    895708689     Test     3\n",
       "\n",
       "[281331 rows x 6 columns]"
      ]
     },
     "execution_count": 11,
     "metadata": {},
     "output_type": "execute_result"
    }
   ],
   "source": [
    "merged_data"
   ]
  },
  {
   "cell_type": "code",
   "execution_count": 10,
   "id": "e61ef888",
   "metadata": {},
   "outputs": [],
   "source": [
    "# stringColumns=['TYPE' , \"COHORT\" , \"Flag\"]\n",
    "# integerColumns=['CUSTOMER_ID' , 'QUARTILE' , 'WAVE']\n",
    "# floatColumns=['REACTIVATION_PROPENSITY_SCORE' , \"REACTIVATION_THRESHOLD\" , \"PROMOTION_REQUIRED_PROPENSITY_SCORE\" , \"PROMOTION_REQUIRED_THRESHOLD\" ]\n",
    "# dateTimeColumns=['SNAPSHOT_DATE']\n",
    "\n",
    "integerColumns=['REGULAR_FLAG' , \"CONSISTENT_FLAG\" , \"CUSTOMER_ID\"]\n",
    "stringColumns=['BUCKETS', 'Flag']"
   ]
  },
  {
   "cell_type": "code",
   "execution_count": 11,
   "id": "562a2f43",
   "metadata": {},
   "outputs": [],
   "source": [
    "for currentStringColumn in stringColumns:\n",
    "    merged_data[currentStringColumn]=merged_data[currentStringColumn].astype(str)\n",
    "    merged_data[currentStringColumn]=\"'\"+merged_data[currentStringColumn]+\"'\"\n",
    "for currentIntegerColumn in integerColumns:\n",
    "    merged_data[currentIntegerColumn]=merged_data[currentIntegerColumn].astype(int)\n",
    "# for currentFloatColumn in floatColumns:\n",
    "#     merged_data[currentFloatColumn]=merged_data[currentFloatColumn].astype(float)"
   ]
  },
  {
   "cell_type": "code",
   "execution_count": 12,
   "id": "42335eaf",
   "metadata": {},
   "outputs": [],
   "source": [
    "columnsList=list(['REGULAR_FLAG', 'CONSISTENT_FLAG', 'BUCKETS', 'CUSTOMER_ID', \"Flag\"])"
   ]
  },
  {
   "cell_type": "markdown",
   "id": "d205bc46",
   "metadata": {},
   "source": [
    "## Use the below code to create a new table"
   ]
  },
  {
   "cell_type": "code",
   "execution_count": 13,
   "id": "190c91bb",
   "metadata": {},
   "outputs": [
    {
     "data": {
      "text/plain": [
       "'CREATE OR REPLACE TABLE EDLDB.MRCH_SANDBOX.MRCH_DS_LOYALTY_CUST_SEGMENT_META_COHORT (REGULAR_FLAG int, CONSISTENT_FLAG int, BUCKETS varchar(16777216), CUSTOMER_ID int, Flag varchar(16777216))'"
      ]
     },
     "execution_count": 13,
     "metadata": {},
     "output_type": "execute_result"
    }
   ],
   "source": [
    "create_tbl_statement = \"CREATE OR REPLACE TABLE \" + database + \".\" + schema + \".\" + table_name + \" (\"\n",
    "\n",
    "# Loop through each column finding the datatype and adding it to the statement\n",
    "\n",
    "for column in columnsList:\n",
    "    if (merged_data[column].dtype.name == \"int\" or merged_data[column].dtype.name == \"int64\"):\n",
    "        create_tbl_statement = create_tbl_statement + column + \" int\"\n",
    "    elif merged_data[column].dtype.name == \"datetime64[ns]\":\n",
    "        create_tbl_statement = create_tbl_statement + column + \" datetime\"\n",
    "    elif merged_data[column].dtype.name == \"float64\":\n",
    "        create_tbl_statement = create_tbl_statement + column + \" float8\"\n",
    "    elif merged_data[column].dtype.name == \"bool\":\n",
    "        create_tbl_statement = create_tbl_statement + column + \" boolean\"\n",
    "    else:\n",
    "        create_tbl_statement = create_tbl_statement + column + \" varchar(16777216)\"\n",
    "\n",
    "    if merged_data[column].name != merged_data.columns[-1]:\n",
    "        create_tbl_statement = create_tbl_statement + \", \"\n",
    "    else:\n",
    "        create_tbl_statement = create_tbl_statement + \")\"\n",
    "create_tbl_statement"
   ]
  },
  {
   "cell_type": "code",
   "execution_count": 14,
   "id": "5daaf122",
   "metadata": {},
   "outputs": [
    {
     "data": {
      "text/plain": [
       "<snowflake.connector.cursor.SnowflakeCursor at 0x7f86c8899a00>"
      ]
     },
     "execution_count": 14,
     "metadata": {},
     "output_type": "execute_result"
    }
   ],
   "source": [
    "ctx.cursor().execute(create_tbl_statement)"
   ]
  },
  {
   "cell_type": "markdown",
   "id": "6a1f925f",
   "metadata": {},
   "source": [
    "## Use below code to insert data into table"
   ]
  },
  {
   "cell_type": "code",
   "execution_count": 15,
   "id": "28769a66",
   "metadata": {},
   "outputs": [],
   "source": [
    "def formQuery(baseQuery, tempData, columnsList):\n",
    "    for index, row in tempData.iterrows():\n",
    "        baseQuery+= \"(\"\n",
    "        formRowQuery=\"\"\n",
    "        for currentColumn in columnsList:\n",
    "            formRowQuery+= str(row[currentColumn]) + \", \"\n",
    "        baseQuery+=formRowQuery[:-2] + \"), \"\n",
    "    return baseQuery"
   ]
  },
  {
   "cell_type": "code",
   "execution_count": 16,
   "id": "1c0b724c",
   "metadata": {},
   "outputs": [],
   "source": [
    "baseInsertQuery=\"INSERT INTO \" + database + \".\" + schema + \".\" + table_name + \"(\" + (\", \".join(columnsList)) +\") VALUES \" \n"
   ]
  },
  {
   "cell_type": "code",
   "execution_count": 17,
   "id": "eab008d6-b8b5-4402-a68e-a38a8ebdc4b6",
   "metadata": {},
   "outputs": [
    {
     "data": {
      "text/plain": [
       "<snowflake.connector.cursor.SnowflakeCursor at 0x7f8636ea2070>"
      ]
     },
     "execution_count": 17,
     "metadata": {},
     "output_type": "execute_result"
    }
   ],
   "source": [
    "\n",
    "count=0\n",
    "while count<merged_data.shape[0]:\n",
    "    insertQuery=formQuery(baseInsertQuery,merged_data.iloc[count:count+15000,], merged_data.columns)\n",
    "\n",
    "    ctx.cursor().execute(insertQuery[:-2])\n",
    "    \n",
    "    count+=15000\n",
    "insertQuery=formQuery(baseInsertQuery,merged_data.iloc[count-15000:,],merged_data.columns)\n",
    "ctx.cursor().execute(insertQuery[:-2])\n"
   ]
  },
  {
   "cell_type": "code",
   "execution_count": 18,
   "id": "5fef69ec",
   "metadata": {},
   "outputs": [
    {
     "data": {
      "text/plain": [
       "<snowflake.connector.cursor.SnowflakeCursor at 0x7f86c8899fd0>"
      ]
     },
     "execution_count": 18,
     "metadata": {},
     "output_type": "execute_result"
    }
   ],
   "source": [
    "copyTable=\"CREATE OR REPLACE TABLE \" + database + \".\" + schema + \".\" + table_name +\"\"\" as \"\"\" +\"SELECT DISTINCT * FROM \" + database + \".\" + schema + \".\" + table_name\n",
    "ctx.cursor().execute(copyTable)"
   ]
  },
  {
   "cell_type": "code",
   "execution_count": null,
   "id": "96ec9bb0-1d07-490d-9aa6-6282403f3f4d",
   "metadata": {},
   "outputs": [],
   "source": []
  },
  {
   "cell_type": "code",
   "execution_count": null,
   "id": "2a23f971-5403-498b-8429-7e576b5dedbe",
   "metadata": {},
   "outputs": [],
   "source": []
  },
  {
   "cell_type": "code",
   "execution_count": null,
   "id": "3a3be517-234a-41d7-b7ae-e77882621dda",
   "metadata": {},
   "outputs": [],
   "source": []
  },
  {
   "cell_type": "code",
   "execution_count": null,
   "id": "38917062",
   "metadata": {},
   "outputs": [],
   "source": []
  },
  {
   "cell_type": "code",
   "execution_count": null,
   "id": "22bdce0a",
   "metadata": {},
   "outputs": [],
   "source": []
  },
  {
   "cell_type": "code",
   "execution_count": null,
   "id": "170330aa",
   "metadata": {},
   "outputs": [],
   "source": []
  }
 ],
 "metadata": {
  "kernelspec": {
   "display_name": "Python 3 (ipykernel)",
   "language": "python",
   "name": "python3"
  },
  "language_info": {
   "codemirror_mode": {
    "name": "ipython",
    "version": 3
   },
   "file_extension": ".py",
   "mimetype": "text/x-python",
   "name": "python",
   "nbconvert_exporter": "python",
   "pygments_lexer": "ipython3",
   "version": "3.9.19"
  }
 },
 "nbformat": 4,
 "nbformat_minor": 5
}
