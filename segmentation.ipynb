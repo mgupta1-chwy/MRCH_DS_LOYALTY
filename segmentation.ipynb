{
 "cells": [
  {
   "cell_type": "code",
   "execution_count": 1,
   "metadata": {},
   "outputs": [
    {
     "name": "stdout",
     "output_type": "stream",
     "text": [
      "Intel MKL WARNING: Support of Intel(R) Streaming SIMD Extensions 4.2 (Intel(R) SSE4.2) enabled only processors has been deprecated. Intel oneAPI Math Kernel Library 2025.0 will require Intel(R) Advanced Vector Extensions (Intel(R) AVX) instructions.\n",
      "Intel MKL WARNING: Support of Intel(R) Streaming SIMD Extensions 4.2 (Intel(R) SSE4.2) enabled only processors has been deprecated. Intel oneAPI Math Kernel Library 2025.0 will require Intel(R) Advanced Vector Extensions (Intel(R) AVX) instructions.\n"
     ]
    }
   ],
   "source": [
    "import sys\n",
    "import snowflake.connector as sf\n",
    "import pandas as pd\n",
    "import numpy as np\n",
    "\n",
    "from sklearn.model_selection import train_test_split\n",
    "import warnings\n",
    "warnings.filterwarnings('ignore')\n"
   ]
  },
  {
   "cell_type": "code",
   "execution_count": 2,
   "metadata": {},
   "outputs": [
    {
     "name": "stdout",
     "output_type": "stream",
     "text": [
      "Initiating login request with your identity provider. A browser window should have opened for you to complete the login. If you can't see it, check existing browser windows, or your OS settings. Press CTRL+C to abort and try again...\n",
      "Going to open: https://chewy.okta.com/app/snowflake/exkmzig18yW58r3j00x7/sso/saml?SAMLRequest=lZLRbtowFIZfJfKuEzsBWmYBVQqrQKIdhbBq3HnJAdwkdubjNLCnnwml6i5aaXeR8%2F32Z%2F9ncHMoC%2B8FDEqthiQMGPFApTqTajck6%2BTO7xMPrVCZKLSCITkCkpvRAEVZVDyu7V4t4XcNaD23kULe%2FhiS2iiuBUrkSpSA3KZ8Fd%2FPeRQwXhltdaoL8i7yeUIggrHO8BLJUDq9vbUVp7RpmqDpBNrsaMQYo%2BwrddQJ%2BXLhD%2B5OH%2FAhZd0T7wiHL17dbqU6P8FnWr%2FOEPJpkiz8xfdVQrz4ojrWCusSzArMi0xhvZyfBdAZjKffnn4GNfog0PphgEo320LkkOqyqq3bM3BfdAsZLfROumvPJkNS5TKbbXZiuk83j%2FFkWe7jvCvS%2BhrunytIottyIxZizY5xOM9FNyXej0uv0anXGWINM3Vq07olFnV91vM7LAkj3ot41As6V1cb4k1cm1IJ2yYvyukemmOgcytaNVFV9M2awiEv%2F8hd2D8%2B9fqm88zY4ZoianqqlpynhbfHm9H%2FvcGAvs%2B%2Bjt2Da2I2WehCpkfvTptS2I%2BLCoOwXZGZv21RDqWQRZxlBhBdYUWhm7EBYd10W1MDoaPzqf%2FO9%2Bgv&RelayState=56227 to authenticate...\n"
     ]
    }
   ],
   "source": [
    "ctx =sf.connect(\n",
    "    user='mgupta1@chewy.com',\n",
    "    autocommit = 0,\n",
    "    authenticator= \"externalbrowser\",\n",
    "    account='chewy.us-east-1'\n",
    "    )"
   ]
  },
  {
   "cell_type": "code",
   "execution_count": 3,
   "metadata": {},
   "outputs": [],
   "source": [
    "sql = \"\"\" \n",
    "SELECT * FROM MRCH_SANDBOX.LOYALTY_DS_TEMP_2_REVISED   \n",
    "\"\"\"\n",
    "\n",
    "cur= ctx.cursor()\n",
    "cur.execute(sql)\n",
    "data = cur.fetch_pandas_all()"
   ]
  },
  {
   "cell_type": "code",
   "execution_count": 4,
   "metadata": {},
   "outputs": [
    {
     "data": {
      "text/plain": [
       "(323507, 10)"
      ]
     },
     "execution_count": 4,
     "metadata": {},
     "output_type": "execute_result"
    }
   ],
   "source": [
    "data.shape"
   ]
  },
  {
   "cell_type": "code",
   "execution_count": 180,
   "metadata": {},
   "outputs": [
    {
     "data": {
      "text/plain": [
       "(281331, 5)"
      ]
     },
     "execution_count": 180,
     "metadata": {},
     "output_type": "execute_result"
    }
   ],
   "source": [
    "sql_consider_cust = \"\"\" \n",
    "\n",
    "SELECT * FROM MRCH_SANDBOX.MRCH_DS_LOYALTY_CUST_SEGMENT\n",
    "where CUSTOMER_SEGMENT = 'Not Assigned yet'\n",
    "\"\"\"\n",
    "\n",
    "cur= ctx.cursor()\n",
    "cur.execute(sql_consider_cust)\n",
    "data_consider = cur.fetch_pandas_all()\n",
    "data_consider.shape"
   ]
  },
  {
   "cell_type": "code",
   "execution_count": 224,
   "metadata": {},
   "outputs": [
    {
     "data": {
      "text/plain": [
       "(281331, 10)"
      ]
     },
     "execution_count": 224,
     "metadata": {},
     "output_type": "execute_result"
    }
   ],
   "source": [
    "filtered_data = data[data[\"CUSTOMER_ID\"].isin(data_consider[\"CUSTOMER_ID\"].unique())]\n",
    "merge_data = data[data[\"CUSTOMER_ID\"].isin(data_consider[\"CUSTOMER_ID\"].unique())]\n",
    "filtered_data.shape"
   ]
  },
  {
   "cell_type": "code",
   "execution_count": 225,
   "metadata": {},
   "outputs": [],
   "source": [
    "filtered_data[\"MC_FLAG\"] = 0\n",
    "filtered_data.loc[filtered_data[\"PERC_CHEWY_SALES\"] > 0  , \"MC_FLAG\" ] = 1\n",
    "\n",
    "\n",
    "merge_data[\"MC_FLAG\"] = 0\n",
    "merge_data.loc[merge_data[\"PERC_CHEWY_SALES\"] > 0  , \"MC_FLAG\" ] = 1\n",
    "\n",
    "filtered_data[\"concat\"] = filtered_data['AS_FLAG'].astype(str) + '_'  + filtered_data['PET_FLAG'].astype(str) + '_'  + filtered_data['MC_FLAG'].astype(str)\n",
    "merge_data[\"concat\"] = merge_data['AS_FLAG'].astype(str) + '_'  + merge_data['PET_FLAG'].astype(str) + '_'  + merge_data['MC_FLAG'].astype(str)\n",
    "\n",
    "\n",
    "filtered_data['COUNT'] = filtered_data.groupby(['REGULAR_CUSTOMER' , 'QUARTILE' , 'COHORT'])['CUSTOMER_ID'].transform('count')\n",
    "filtered_data[\"combo_COUNT\"] = filtered_data.groupby(['REGULAR_CUSTOMER' , 'QUARTILE' , 'COHORT' , 'concat'])['CUSTOMER_ID'].transform('nunique')\n",
    "\n",
    "\n",
    "\n"
   ]
  },
  {
   "cell_type": "code",
   "execution_count": 226,
   "metadata": {},
   "outputs": [
    {
     "data": {
      "text/plain": [
       "REGULAR_CUSTOMER  QUARTILE  COHORT  \n",
       "0                 3         COHORT_2     2143\n",
       "                  1         COHORT_2     2144\n",
       "                  4         COHORT_2     2144\n",
       "                  2         COHORT_2     2145\n",
       "1                 2         COHORT_2    14320\n",
       "                  4         COHORT_2    14324\n",
       "                  3         COHORT_2    14325\n",
       "                  1         COHORT_2    14329\n",
       "                  3         COHORT_1    20631\n",
       "                  4         COHORT_1    20638\n",
       "                  2         COHORT_1    20639\n",
       "                  1         COHORT_1    20641\n",
       "0                 2         COHORT_1    43739\n",
       "                  3         COHORT_1    43769\n",
       "                  1         COHORT_1    43781\n",
       "                  4         COHORT_1    43795\n",
       "Name: CUSTOMER_ID, dtype: int64"
      ]
     },
     "execution_count": 226,
     "metadata": {},
     "output_type": "execute_result"
    }
   ],
   "source": [
    "data.groupby(['REGULAR_CUSTOMER' , 'QUARTILE' , 'COHORT'])['CUSTOMER_ID'].count().sort_values()"
   ]
  },
  {
   "cell_type": "code",
   "execution_count": 227,
   "metadata": {},
   "outputs": [
    {
     "data": {
      "text/plain": [
       "REGULAR_CUSTOMER  QUARTILE  COHORT  \n",
       "1                 2         COHORT_2    12320\n",
       "                  4         COHORT_2    12324\n",
       "                  3         COHORT_2    12325\n",
       "                  1         COHORT_2    12329\n",
       "                  3         COHORT_1    17431\n",
       "                  4         COHORT_1    17438\n",
       "                  2         COHORT_1    17439\n",
       "                  1         COHORT_1    17441\n",
       "0                 2         COHORT_1    40539\n",
       "                  3         COHORT_1    40569\n",
       "                  1         COHORT_1    40581\n",
       "                  4         COHORT_1    40595\n",
       "Name: CUSTOMER_ID, dtype: int64"
      ]
     },
     "execution_count": 227,
     "metadata": {},
     "output_type": "execute_result"
    }
   ],
   "source": [
    "filtered_data.groupby(['REGULAR_CUSTOMER' , 'QUARTILE' , 'COHORT'])['CUSTOMER_ID'].count().sort_values()\n"
   ]
  },
  {
   "cell_type": "code",
   "execution_count": 228,
   "metadata": {},
   "outputs": [
    {
     "data": {
      "text/plain": [
       "281331"
      ]
     },
     "execution_count": 228,
     "metadata": {},
     "output_type": "execute_result"
    }
   ],
   "source": [
    "filtered_data.shape[0]"
   ]
  },
  {
   "cell_type": "code",
   "execution_count": 229,
   "metadata": {},
   "outputs": [],
   "source": [
    "filtered_data[\"CUSTOMER_PROP\"] = filtered_data['COUNT'] / filtered_data.shape[0]\n",
    "filtered_data.loc[filtered_data[\"COHORT\"] == 'COHORT_1' , \"CUSTOMER_REQD\"] = filtered_data[\"CUSTOMER_PROP\"] * 36000\n",
    "filtered_data.loc[filtered_data[\"COHORT\"] == 'COHORT_2' , \"CUSTOMER_REQD\"] = filtered_data[\"CUSTOMER_PROP\"] * 16000\n",
    "\n",
    "\n",
    "filtered_Data = filtered_data[filtered_data[\"combo_COUNT\"] >=3]"
   ]
  },
  {
   "cell_type": "markdown",
   "metadata": {},
   "source": [
    "WAVE 2\n"
   ]
  },
  {
   "cell_type": "code",
   "execution_count": 230,
   "metadata": {},
   "outputs": [],
   "source": [
    "selected_data = pd.DataFrame()"
   ]
  },
  {
   "cell_type": "code",
   "execution_count": 231,
   "metadata": {},
   "outputs": [],
   "source": [
    "for regular in  [1]:\n",
    "    for quartile in filtered_Data[\"QUARTILE\"].unique():\n",
    "\n",
    "        data_sel = filtered_Data[(filtered_Data[\"REGULAR_CUSTOMER\"] == regular) & (filtered_Data[\"COHORT\"] == \"COHORT_1\") & (filtered_Data[\"QUARTILE\"] == quartile)]\n",
    " \n",
    "        X_train, Test = train_test_split(data_sel , test_size= 4500 ,  stratify = data_sel['concat'])\n",
    "        Test[\"Flag\"] = \"Test\"\n",
    "\n",
    "        last_split , Control = train_test_split(X_train , test_size = 4500 , stratify = X_train['concat'])\n",
    "        Control[\"Flag\"] = \"Control\" \n",
    "\n",
    "\n",
    "        temp_df = pd.concat([Test[[\"CUSTOMER_ID\" , 'Flag']] ,  Control[[\"CUSTOMER_ID\" , 'Flag']]  ])   \n",
    "        selected_data = pd.concat([selected_data, temp_df])\n"
   ]
  },
  {
   "cell_type": "code",
   "execution_count": 232,
   "metadata": {},
   "outputs": [],
   "source": [
    "for regular in  [0]:\n",
    "    for quartile in filtered_Data[\"QUARTILE\"].unique():\n",
    "\n",
    "        data_sel = filtered_Data[(filtered_Data[\"REGULAR_CUSTOMER\"] == regular) & (filtered_Data[\"COHORT\"] == \"COHORT_1\") & (filtered_Data[\"QUARTILE\"] == quartile)]\n",
    " \n",
    "        X_train, Test = train_test_split(data_sel , test_size= 6500 ,  stratify = data_sel['concat'])\n",
    "        Test[\"Flag\"] = \"Test\"\n",
    "\n",
    "        last_split , Control = train_test_split(X_train , test_size = 6500 , stratify = X_train['concat'])\n",
    "        Control[\"Flag\"] = \"Control\" \n",
    "        # X_train[\"Flag\"] = \"Test\" \n",
    "\n",
    "        temp_df = pd.concat([Test[[\"CUSTOMER_ID\" , 'Flag']] ,  Control[[\"CUSTOMER_ID\" , 'Flag']]  ])   \n",
    "        selected_data = pd.concat([selected_data, temp_df])\n",
    "            "
   ]
  },
  {
   "cell_type": "code",
   "execution_count": 233,
   "metadata": {},
   "outputs": [],
   "source": [
    "for regular in  [1]:\n",
    "    for quartile in filtered_Data[\"QUARTILE\"].unique():\n",
    "\n",
    "        data_sel = filtered_Data[(filtered_Data[\"REGULAR_CUSTOMER\"] == regular) & (filtered_Data[\"COHORT\"] == \"COHORT_2\") & (filtered_Data[\"QUARTILE\"] == quartile)]\n",
    " \n",
    "        X_train, Test = train_test_split(data_sel , test_size= 4000 ,  stratify = data_sel['concat'])\n",
    "        Test[\"Flag\"] = \"Test\"\n",
    "\n",
    "        last_split , Control = train_test_split(X_train , test_size = 4000 , stratify = X_train['concat'])\n",
    "        Control[\"Flag\"] = \"Control\" \n",
    "\n",
    "\n",
    "        temp_df = pd.concat([Test[[\"CUSTOMER_ID\" , 'Flag']] ,  Control[[\"CUSTOMER_ID\" , 'Flag']]  ])   \n",
    "        selected_data = pd.concat([selected_data, temp_df])"
   ]
  },
  {
   "cell_type": "code",
   "execution_count": 234,
   "metadata": {},
   "outputs": [
    {
     "data": {
      "text/plain": [
       "Flag\n",
       "Control    60000\n",
       "Test       60000\n",
       "Name: CUSTOMER_ID, dtype: int64"
      ]
     },
     "execution_count": 234,
     "metadata": {},
     "output_type": "execute_result"
    }
   ],
   "source": [
    "selected_data.groupby(\"Flag\")[\"CUSTOMER_ID\"].count()"
   ]
  },
  {
   "cell_type": "code",
   "execution_count": 235,
   "metadata": {},
   "outputs": [],
   "source": [
    "merge_data_1 = merge_data.merge(selected_data , on = \"CUSTOMER_ID\" , how = 'left')\n",
    "merge_data_1 [\"Flag\"].fillna(\"Not Assigned yet\" , inplace = True)\n",
    "wave2  = merge_data_1[merge_data_1[\"Flag\"]!= \"Not Assigned yet\"]"
   ]
  },
  {
   "cell_type": "code",
   "execution_count": 236,
   "metadata": {},
   "outputs": [],
   "source": [
    "test  = merge_data_1[merge_data_1[\"Flag\"]!= \"Not Assigned yet\"].groupby(['REGULAR_CUSTOMER' , 'QUARTILE' , 'COHORT', 'Flag']).agg({\"CUSTOMER_ID\" : 'count' , 'MC_FLAG' : 'sum' , \n",
    "                                                                                                                               'TENURE' : 'mean' , 'AS_FLAG' : 'sum'}).reset_index()\n",
    "test[\"AS_PERC\"] = test[\"AS_FLAG\"] * 100 / test[\"CUSTOMER_ID\"]"
   ]
  },
  {
   "cell_type": "code",
   "execution_count": 237,
   "metadata": {},
   "outputs": [
    {
     "data": {
      "text/plain": [
       "REGULAR_CUSTOMER  QUARTILE  COHORT  \n",
       "1                 1         COHORT_2     8000\n",
       "                  2         COHORT_2     8000\n",
       "                  3         COHORT_2     8000\n",
       "                  4         COHORT_2     8000\n",
       "                  1         COHORT_1     9000\n",
       "                  2         COHORT_1     9000\n",
       "                  3         COHORT_1     9000\n",
       "                  4         COHORT_1     9000\n",
       "0                 1         COHORT_1    13000\n",
       "                  2         COHORT_1    13000\n",
       "                  3         COHORT_1    13000\n",
       "                  4         COHORT_1    13000\n",
       "Name: CUSTOMER_ID, dtype: int64"
      ]
     },
     "execution_count": 237,
     "metadata": {},
     "output_type": "execute_result"
    }
   ],
   "source": [
    "test.groupby(['REGULAR_CUSTOMER' , 'QUARTILE' , 'COHORT' ])['CUSTOMER_ID'].sum().sort_values()"
   ]
  },
  {
   "cell_type": "code",
   "execution_count": 238,
   "metadata": {},
   "outputs": [],
   "source": [
    "test2 = merge_data_1[merge_data_1[\"Flag\"]== \"Not Assigned yet\"].groupby(['REGULAR_CUSTOMER' , 'QUARTILE' , 'COHORT', 'Flag']).agg({\"CUSTOMER_ID\" : 'count' , 'MC_FLAG' : 'sum' , 'TENURE' : 'mean' , 'AS_FLAG' : 'sum'}).reset_index()\n",
    "test2[\"AS_PERC\"] = test2[\"AS_FLAG\"] * 100 / test2[\"CUSTOMER_ID\"]"
   ]
  },
  {
   "cell_type": "code",
   "execution_count": 239,
   "metadata": {},
   "outputs": [
    {
     "data": {
      "text/plain": [
       "REGULAR_CUSTOMER  QUARTILE  COHORT  \n",
       "1                 2         COHORT_2     4320\n",
       "                  4         COHORT_2     4324\n",
       "                  3         COHORT_2     4325\n",
       "                  1         COHORT_2     4329\n",
       "                  3         COHORT_1     8431\n",
       "                  4         COHORT_1     8438\n",
       "                  2         COHORT_1     8439\n",
       "                  1         COHORT_1     8441\n",
       "0                 2         COHORT_1    27539\n",
       "                  3         COHORT_1    27569\n",
       "                  1         COHORT_1    27581\n",
       "                  4         COHORT_1    27595\n",
       "Name: CUSTOMER_ID, dtype: int64"
      ]
     },
     "execution_count": 239,
     "metadata": {},
     "output_type": "execute_result"
    }
   ],
   "source": [
    "test2.groupby(['REGULAR_CUSTOMER' , 'QUARTILE' , 'COHORT' ])['CUSTOMER_ID'].sum().sort_values()"
   ]
  },
  {
   "cell_type": "code",
   "execution_count": 269,
   "metadata": {},
   "outputs": [
    {
     "data": {
      "text/plain": [
       "0.36363636363636365"
      ]
     },
     "execution_count": 269,
     "metadata": {},
     "output_type": "execute_result"
    }
   ],
   "source": [
    "8000/(9000+13000)"
   ]
  },
  {
   "cell_type": "markdown",
   "metadata": {},
   "source": [
    "WAVE 3"
   ]
  },
  {
   "cell_type": "code",
   "execution_count": 257,
   "metadata": {},
   "outputs": [],
   "source": [
    "wave3 = merge_data_1[merge_data_1[\"Flag\"]== \"Not Assigned yet\"]\n",
    "wave3.drop(columns = [\"Flag\"] , inplace = True)"
   ]
  },
  {
   "cell_type": "code",
   "execution_count": 258,
   "metadata": {},
   "outputs": [],
   "source": [
    "selected_data = pd.DataFrame()"
   ]
  },
  {
   "cell_type": "code",
   "execution_count": 259,
   "metadata": {},
   "outputs": [],
   "source": [
    "for regular in  [1]:\n",
    "    for quartile in wave3[\"QUARTILE\"].unique():\n",
    "\n",
    "        data_sel = wave3[(wave3[\"REGULAR_CUSTOMER\"] == regular) & (wave3[\"COHORT\"] == \"COHORT_1\") & (wave3[\"QUARTILE\"] == quartile)]\n",
    " \n",
    "        Control, Test = train_test_split(data_sel , test_size= 0.5 ,  stratify = data_sel['concat'])\n",
    "        Test[\"Flag\"] = \"Test\"\n",
    "\n",
    "        # last_split , Control = train_test_split(X_train , test_size = 4500 , stratify = X_train['concat'])\n",
    "        Control[\"Flag\"] = \"Control\" \n",
    "\n",
    "\n",
    "        temp_df = pd.concat([Test[[\"CUSTOMER_ID\" , 'Flag']] ,  Control[[\"CUSTOMER_ID\" , 'Flag']]  ])   \n",
    "        selected_data = pd.concat([selected_data, temp_df])"
   ]
  },
  {
   "cell_type": "code",
   "execution_count": 260,
   "metadata": {},
   "outputs": [],
   "source": [
    "for regular in  [0]:\n",
    "    for quartile in wave3[\"QUARTILE\"].unique():\n",
    "\n",
    "        data_sel = wave3[(wave3[\"REGULAR_CUSTOMER\"] == regular) & (wave3[\"COHORT\"] == \"COHORT_1\") & (wave3[\"QUARTILE\"] == quartile)]\n",
    " \n",
    "        Control, Test = train_test_split(data_sel , test_size= 0.5 ,  stratify = data_sel['concat'])\n",
    "        Test[\"Flag\"] = \"Test\"\n",
    "        Control[\"Flag\"] = \"Control\" \n",
    "\n",
    "        temp_df = pd.concat([Test[[\"CUSTOMER_ID\" , 'Flag']] ,  Control[[\"CUSTOMER_ID\" , 'Flag']]  ])   \n",
    "        selected_data = pd.concat([selected_data, temp_df])\n",
    "            "
   ]
  },
  {
   "cell_type": "code",
   "execution_count": 261,
   "metadata": {},
   "outputs": [],
   "source": [
    "for regular in  [1]:\n",
    "    for quartile in wave3[\"QUARTILE\"].unique():\n",
    "\n",
    "        data_sel = wave3[(wave3[\"REGULAR_CUSTOMER\"] == regular) & (wave3[\"COHORT\"] == \"COHORT_2\") & (wave3[\"QUARTILE\"] == quartile)]\n",
    " \n",
    "        Control, Test = train_test_split(data_sel , test_size= 0.5 ,  stratify = data_sel['concat'])\n",
    "        Test[\"Flag\"] = \"Test\"\n",
    "        Control[\"Flag\"] = \"Control\" \n",
    "\n",
    "\n",
    "        temp_df = pd.concat([Test[[\"CUSTOMER_ID\" , 'Flag']] ,  Control[[\"CUSTOMER_ID\" , 'Flag']]  ])   \n",
    "        selected_data = pd.concat([selected_data, temp_df])"
   ]
  },
  {
   "cell_type": "code",
   "execution_count": 262,
   "metadata": {},
   "outputs": [],
   "source": [
    "wave3_merged = wave3.merge(selected_data , on = \"CUSTOMER_ID\" , how = 'left')\n"
   ]
  },
  {
   "cell_type": "code",
   "execution_count": 264,
   "metadata": {},
   "outputs": [],
   "source": [
    "test  = wave3_merged.groupby(['REGULAR_CUSTOMER' , 'QUARTILE' , 'COHORT', 'Flag']).agg({\"CUSTOMER_ID\" : 'count' , 'MC_FLAG' : 'sum' , \n",
    "                                                                                                                               'TENURE' : 'mean' , 'AS_FLAG' : 'sum'}).reset_index()\n",
    "test[\"AS_PERC\"] = test[\"AS_FLAG\"] * 100 / test[\"CUSTOMER_ID\"]"
   ]
  },
  {
   "cell_type": "code",
   "execution_count": 271,
   "metadata": {},
   "outputs": [
    {
     "data": {
      "text/html": [
       "<div>\n",
       "<style scoped>\n",
       "    .dataframe tbody tr th:only-of-type {\n",
       "        vertical-align: middle;\n",
       "    }\n",
       "\n",
       "    .dataframe tbody tr th {\n",
       "        vertical-align: top;\n",
       "    }\n",
       "\n",
       "    .dataframe thead th {\n",
       "        text-align: right;\n",
       "    }\n",
       "</style>\n",
       "<table border=\"1\" class=\"dataframe\">\n",
       "  <thead>\n",
       "    <tr style=\"text-align: right;\">\n",
       "      <th></th>\n",
       "      <th>REGULAR_CUSTOMER</th>\n",
       "      <th>QUARTILE</th>\n",
       "      <th>COHORT</th>\n",
       "      <th>Flag</th>\n",
       "      <th>CUSTOMER_ID</th>\n",
       "      <th>MC_FLAG</th>\n",
       "      <th>TENURE</th>\n",
       "      <th>AS_FLAG</th>\n",
       "      <th>AS_PERC</th>\n",
       "    </tr>\n",
       "  </thead>\n",
       "  <tbody>\n",
       "    <tr>\n",
       "      <th>0</th>\n",
       "      <td>0</td>\n",
       "      <td>1</td>\n",
       "      <td>COHORT_1</td>\n",
       "      <td>Control</td>\n",
       "      <td>13790</td>\n",
       "      <td>2170</td>\n",
       "      <td>1579.629877</td>\n",
       "      <td>6837</td>\n",
       "      <td>49.579405</td>\n",
       "    </tr>\n",
       "    <tr>\n",
       "      <th>1</th>\n",
       "      <td>0</td>\n",
       "      <td>1</td>\n",
       "      <td>COHORT_1</td>\n",
       "      <td>Test</td>\n",
       "      <td>13791</td>\n",
       "      <td>2169</td>\n",
       "      <td>1568.571967</td>\n",
       "      <td>6836</td>\n",
       "      <td>49.568559</td>\n",
       "    </tr>\n",
       "    <tr>\n",
       "      <th>2</th>\n",
       "      <td>0</td>\n",
       "      <td>2</td>\n",
       "      <td>COHORT_1</td>\n",
       "      <td>Control</td>\n",
       "      <td>13769</td>\n",
       "      <td>2451</td>\n",
       "      <td>1509.090130</td>\n",
       "      <td>8623</td>\n",
       "      <td>62.626189</td>\n",
       "    </tr>\n",
       "    <tr>\n",
       "      <th>3</th>\n",
       "      <td>0</td>\n",
       "      <td>2</td>\n",
       "      <td>COHORT_1</td>\n",
       "      <td>Test</td>\n",
       "      <td>13770</td>\n",
       "      <td>2447</td>\n",
       "      <td>1514.740741</td>\n",
       "      <td>8623</td>\n",
       "      <td>62.621641</td>\n",
       "    </tr>\n",
       "    <tr>\n",
       "      <th>4</th>\n",
       "      <td>0</td>\n",
       "      <td>3</td>\n",
       "      <td>COHORT_1</td>\n",
       "      <td>Control</td>\n",
       "      <td>13784</td>\n",
       "      <td>2691</td>\n",
       "      <td>1478.206544</td>\n",
       "      <td>10007</td>\n",
       "      <td>72.598665</td>\n",
       "    </tr>\n",
       "    <tr>\n",
       "      <th>5</th>\n",
       "      <td>0</td>\n",
       "      <td>3</td>\n",
       "      <td>COHORT_1</td>\n",
       "      <td>Test</td>\n",
       "      <td>13785</td>\n",
       "      <td>2690</td>\n",
       "      <td>1469.628292</td>\n",
       "      <td>10010</td>\n",
       "      <td>72.615161</td>\n",
       "    </tr>\n",
       "    <tr>\n",
       "      <th>6</th>\n",
       "      <td>0</td>\n",
       "      <td>4</td>\n",
       "      <td>COHORT_1</td>\n",
       "      <td>Control</td>\n",
       "      <td>13797</td>\n",
       "      <td>2551</td>\n",
       "      <td>1485.462709</td>\n",
       "      <td>9406</td>\n",
       "      <td>68.174241</td>\n",
       "    </tr>\n",
       "    <tr>\n",
       "      <th>7</th>\n",
       "      <td>0</td>\n",
       "      <td>4</td>\n",
       "      <td>COHORT_1</td>\n",
       "      <td>Test</td>\n",
       "      <td>13798</td>\n",
       "      <td>2548</td>\n",
       "      <td>1484.446369</td>\n",
       "      <td>9407</td>\n",
       "      <td>68.176547</td>\n",
       "    </tr>\n",
       "    <tr>\n",
       "      <th>8</th>\n",
       "      <td>1</td>\n",
       "      <td>1</td>\n",
       "      <td>COHORT_1</td>\n",
       "      <td>Control</td>\n",
       "      <td>4220</td>\n",
       "      <td>800</td>\n",
       "      <td>1554.098578</td>\n",
       "      <td>1860</td>\n",
       "      <td>44.075829</td>\n",
       "    </tr>\n",
       "    <tr>\n",
       "      <th>9</th>\n",
       "      <td>1</td>\n",
       "      <td>1</td>\n",
       "      <td>COHORT_1</td>\n",
       "      <td>Test</td>\n",
       "      <td>4221</td>\n",
       "      <td>798</td>\n",
       "      <td>1570.264629</td>\n",
       "      <td>1863</td>\n",
       "      <td>44.136461</td>\n",
       "    </tr>\n",
       "    <tr>\n",
       "      <th>10</th>\n",
       "      <td>1</td>\n",
       "      <td>1</td>\n",
       "      <td>COHORT_2</td>\n",
       "      <td>Control</td>\n",
       "      <td>2164</td>\n",
       "      <td>512</td>\n",
       "      <td>1788.923752</td>\n",
       "      <td>940</td>\n",
       "      <td>43.438078</td>\n",
       "    </tr>\n",
       "    <tr>\n",
       "      <th>11</th>\n",
       "      <td>1</td>\n",
       "      <td>1</td>\n",
       "      <td>COHORT_2</td>\n",
       "      <td>Test</td>\n",
       "      <td>2165</td>\n",
       "      <td>510</td>\n",
       "      <td>1768.443418</td>\n",
       "      <td>942</td>\n",
       "      <td>43.510393</td>\n",
       "    </tr>\n",
       "    <tr>\n",
       "      <th>12</th>\n",
       "      <td>1</td>\n",
       "      <td>2</td>\n",
       "      <td>COHORT_1</td>\n",
       "      <td>Control</td>\n",
       "      <td>4219</td>\n",
       "      <td>828</td>\n",
       "      <td>1552.632377</td>\n",
       "      <td>1845</td>\n",
       "      <td>43.730742</td>\n",
       "    </tr>\n",
       "    <tr>\n",
       "      <th>13</th>\n",
       "      <td>1</td>\n",
       "      <td>2</td>\n",
       "      <td>COHORT_1</td>\n",
       "      <td>Test</td>\n",
       "      <td>4220</td>\n",
       "      <td>826</td>\n",
       "      <td>1553.947156</td>\n",
       "      <td>1845</td>\n",
       "      <td>43.720379</td>\n",
       "    </tr>\n",
       "    <tr>\n",
       "      <th>14</th>\n",
       "      <td>1</td>\n",
       "      <td>2</td>\n",
       "      <td>COHORT_2</td>\n",
       "      <td>Control</td>\n",
       "      <td>2160</td>\n",
       "      <td>502</td>\n",
       "      <td>1764.854167</td>\n",
       "      <td>931</td>\n",
       "      <td>43.101852</td>\n",
       "    </tr>\n",
       "    <tr>\n",
       "      <th>15</th>\n",
       "      <td>1</td>\n",
       "      <td>2</td>\n",
       "      <td>COHORT_2</td>\n",
       "      <td>Test</td>\n",
       "      <td>2160</td>\n",
       "      <td>501</td>\n",
       "      <td>1747.800000</td>\n",
       "      <td>931</td>\n",
       "      <td>43.101852</td>\n",
       "    </tr>\n",
       "    <tr>\n",
       "      <th>16</th>\n",
       "      <td>1</td>\n",
       "      <td>3</td>\n",
       "      <td>COHORT_1</td>\n",
       "      <td>Control</td>\n",
       "      <td>4215</td>\n",
       "      <td>851</td>\n",
       "      <td>1574.548280</td>\n",
       "      <td>1863</td>\n",
       "      <td>44.199288</td>\n",
       "    </tr>\n",
       "    <tr>\n",
       "      <th>17</th>\n",
       "      <td>1</td>\n",
       "      <td>3</td>\n",
       "      <td>COHORT_1</td>\n",
       "      <td>Test</td>\n",
       "      <td>4216</td>\n",
       "      <td>850</td>\n",
       "      <td>1584.761148</td>\n",
       "      <td>1863</td>\n",
       "      <td>44.188805</td>\n",
       "    </tr>\n",
       "    <tr>\n",
       "      <th>18</th>\n",
       "      <td>1</td>\n",
       "      <td>3</td>\n",
       "      <td>COHORT_2</td>\n",
       "      <td>Control</td>\n",
       "      <td>2162</td>\n",
       "      <td>512</td>\n",
       "      <td>1738.444958</td>\n",
       "      <td>951</td>\n",
       "      <td>43.987049</td>\n",
       "    </tr>\n",
       "    <tr>\n",
       "      <th>19</th>\n",
       "      <td>1</td>\n",
       "      <td>3</td>\n",
       "      <td>COHORT_2</td>\n",
       "      <td>Test</td>\n",
       "      <td>2163</td>\n",
       "      <td>512</td>\n",
       "      <td>1758.609339</td>\n",
       "      <td>950</td>\n",
       "      <td>43.920481</td>\n",
       "    </tr>\n",
       "    <tr>\n",
       "      <th>20</th>\n",
       "      <td>1</td>\n",
       "      <td>4</td>\n",
       "      <td>COHORT_1</td>\n",
       "      <td>Control</td>\n",
       "      <td>4219</td>\n",
       "      <td>819</td>\n",
       "      <td>1582.850676</td>\n",
       "      <td>1967</td>\n",
       "      <td>46.622422</td>\n",
       "    </tr>\n",
       "    <tr>\n",
       "      <th>21</th>\n",
       "      <td>1</td>\n",
       "      <td>4</td>\n",
       "      <td>COHORT_1</td>\n",
       "      <td>Test</td>\n",
       "      <td>4219</td>\n",
       "      <td>820</td>\n",
       "      <td>1590.114719</td>\n",
       "      <td>1966</td>\n",
       "      <td>46.598720</td>\n",
       "    </tr>\n",
       "    <tr>\n",
       "      <th>22</th>\n",
       "      <td>1</td>\n",
       "      <td>4</td>\n",
       "      <td>COHORT_2</td>\n",
       "      <td>Control</td>\n",
       "      <td>2162</td>\n",
       "      <td>503</td>\n",
       "      <td>1773.412118</td>\n",
       "      <td>1046</td>\n",
       "      <td>48.381129</td>\n",
       "    </tr>\n",
       "    <tr>\n",
       "      <th>23</th>\n",
       "      <td>1</td>\n",
       "      <td>4</td>\n",
       "      <td>COHORT_2</td>\n",
       "      <td>Test</td>\n",
       "      <td>2162</td>\n",
       "      <td>502</td>\n",
       "      <td>1773.685476</td>\n",
       "      <td>1045</td>\n",
       "      <td>48.334875</td>\n",
       "    </tr>\n",
       "  </tbody>\n",
       "</table>\n",
       "</div>"
      ],
      "text/plain": [
       "    REGULAR_CUSTOMER  QUARTILE    COHORT     Flag  CUSTOMER_ID  MC_FLAG  \\\n",
       "0                  0         1  COHORT_1  Control        13790     2170   \n",
       "1                  0         1  COHORT_1     Test        13791     2169   \n",
       "2                  0         2  COHORT_1  Control        13769     2451   \n",
       "3                  0         2  COHORT_1     Test        13770     2447   \n",
       "4                  0         3  COHORT_1  Control        13784     2691   \n",
       "5                  0         3  COHORT_1     Test        13785     2690   \n",
       "6                  0         4  COHORT_1  Control        13797     2551   \n",
       "7                  0         4  COHORT_1     Test        13798     2548   \n",
       "8                  1         1  COHORT_1  Control         4220      800   \n",
       "9                  1         1  COHORT_1     Test         4221      798   \n",
       "10                 1         1  COHORT_2  Control         2164      512   \n",
       "11                 1         1  COHORT_2     Test         2165      510   \n",
       "12                 1         2  COHORT_1  Control         4219      828   \n",
       "13                 1         2  COHORT_1     Test         4220      826   \n",
       "14                 1         2  COHORT_2  Control         2160      502   \n",
       "15                 1         2  COHORT_2     Test         2160      501   \n",
       "16                 1         3  COHORT_1  Control         4215      851   \n",
       "17                 1         3  COHORT_1     Test         4216      850   \n",
       "18                 1         3  COHORT_2  Control         2162      512   \n",
       "19                 1         3  COHORT_2     Test         2163      512   \n",
       "20                 1         4  COHORT_1  Control         4219      819   \n",
       "21                 1         4  COHORT_1     Test         4219      820   \n",
       "22                 1         4  COHORT_2  Control         2162      503   \n",
       "23                 1         4  COHORT_2     Test         2162      502   \n",
       "\n",
       "         TENURE  AS_FLAG    AS_PERC  \n",
       "0   1579.629877     6837  49.579405  \n",
       "1   1568.571967     6836  49.568559  \n",
       "2   1509.090130     8623  62.626189  \n",
       "3   1514.740741     8623  62.621641  \n",
       "4   1478.206544    10007  72.598665  \n",
       "5   1469.628292    10010  72.615161  \n",
       "6   1485.462709     9406  68.174241  \n",
       "7   1484.446369     9407  68.176547  \n",
       "8   1554.098578     1860  44.075829  \n",
       "9   1570.264629     1863  44.136461  \n",
       "10  1788.923752      940  43.438078  \n",
       "11  1768.443418      942  43.510393  \n",
       "12  1552.632377     1845  43.730742  \n",
       "13  1553.947156     1845  43.720379  \n",
       "14  1764.854167      931  43.101852  \n",
       "15  1747.800000      931  43.101852  \n",
       "16  1574.548280     1863  44.199288  \n",
       "17  1584.761148     1863  44.188805  \n",
       "18  1738.444958      951  43.987049  \n",
       "19  1758.609339      950  43.920481  \n",
       "20  1582.850676     1967  46.622422  \n",
       "21  1590.114719     1966  46.598720  \n",
       "22  1773.412118     1046  48.381129  \n",
       "23  1773.685476     1045  48.334875  "
      ]
     },
     "execution_count": 271,
     "metadata": {},
     "output_type": "execute_result"
    }
   ],
   "source": [
    "test"
   ]
  },
  {
   "cell_type": "code",
   "execution_count": 270,
   "metadata": {},
   "outputs": [
    {
     "data": {
      "text/plain": [
       "REGULAR_CUSTOMER  QUARTILE  COHORT    Flag   \n",
       "1                 2         COHORT_2  Test        2160\n",
       "                                      Control     2160\n",
       "                  4         COHORT_2  Test        2162\n",
       "                  3         COHORT_2  Control     2162\n",
       "                  4         COHORT_2  Control     2162\n",
       "                  3         COHORT_2  Test        2163\n",
       "                  1         COHORT_2  Control     2164\n",
       "                                      Test        2165\n",
       "                  3         COHORT_1  Control     4215\n",
       "                                      Test        4216\n",
       "                  2         COHORT_1  Control     4219\n",
       "                  4         COHORT_1  Control     4219\n",
       "                                      Test        4219\n",
       "                  1         COHORT_1  Control     4220\n",
       "                  2         COHORT_1  Test        4220\n",
       "                  1         COHORT_1  Test        4221\n",
       "0                 2         COHORT_1  Control    13769\n",
       "                                      Test       13770\n",
       "                  3         COHORT_1  Control    13784\n",
       "                                      Test       13785\n",
       "                  1         COHORT_1  Control    13790\n",
       "                                      Test       13791\n",
       "                  4         COHORT_1  Control    13797\n",
       "                                      Test       13798\n",
       "Name: CUSTOMER_ID, dtype: int64"
      ]
     },
     "execution_count": 270,
     "metadata": {},
     "output_type": "execute_result"
    }
   ],
   "source": [
    "test.groupby(['REGULAR_CUSTOMER' , 'QUARTILE' , 'COHORT', 'Flag' ])['CUSTOMER_ID'].sum().sort_values()"
   ]
  },
  {
   "cell_type": "code",
   "execution_count": 267,
   "metadata": {},
   "outputs": [
    {
     "data": {
      "text/plain": [
       "36026"
      ]
     },
     "execution_count": 267,
     "metadata": {},
     "output_type": "execute_result"
    }
   ],
   "source": [
    "8431+27595"
   ]
  },
  {
   "cell_type": "code",
   "execution_count": 268,
   "metadata": {},
   "outputs": [
    {
     "data": {
      "text/plain": [
       "0.12"
      ]
     },
     "execution_count": 268,
     "metadata": {},
     "output_type": "execute_result"
    }
   ],
   "source": [
    "4320/36000"
   ]
  },
  {
   "cell_type": "code",
   "execution_count": 274,
   "metadata": {},
   "outputs": [],
   "source": [
    "wave2[\"WAVE\"] = 'WAVE2'\n",
    "wave3_merged[\"WAVE\"] = 'WAVE3'\n",
    "final_data = pd.concat([wave2, wave3_merged])"
   ]
  },
  {
   "cell_type": "code",
   "execution_count": 279,
   "metadata": {},
   "outputs": [
    {
     "data": {
      "text/plain": [
       "WAVE  REGULAR_CUSTOMER  QUARTILE  COHORT  \n",
       "3     1                 2         COHORT_2     4320\n",
       "                        4         COHORT_2     4324\n",
       "                        3         COHORT_2     4325\n",
       "                        1         COHORT_2     4329\n",
       "2     1                 3         COHORT_2     8000\n",
       "                        2         COHORT_2     8000\n",
       "                        4         COHORT_2     8000\n",
       "                        1         COHORT_2     8000\n",
       "3     1                 3         COHORT_1     8431\n",
       "                        4         COHORT_1     8438\n",
       "                        2         COHORT_1     8439\n",
       "                        1         COHORT_1     8441\n",
       "2     1                 3         COHORT_1     9000\n",
       "                        1         COHORT_1     9000\n",
       "                        4         COHORT_1     9000\n",
       "                        2         COHORT_1     9000\n",
       "      0                 2         COHORT_1    13000\n",
       "                        3         COHORT_1    13000\n",
       "                        1         COHORT_1    13000\n",
       "                        4         COHORT_1    13000\n",
       "3     0                 2         COHORT_1    27539\n",
       "                        3         COHORT_1    27569\n",
       "                        1         COHORT_1    27581\n",
       "                        4         COHORT_1    27595\n",
       "Name: CUSTOMER_ID, dtype: int64"
      ]
     },
     "execution_count": 279,
     "metadata": {},
     "output_type": "execute_result"
    }
   ],
   "source": [
    "final_data.groupby([ 'WAVE' , 'REGULAR_CUSTOMER' , 'QUARTILE' , 'COHORT' ])['CUSTOMER_ID'].count().sort_values()"
   ]
  },
  {
   "cell_type": "code",
   "execution_count": 281,
   "metadata": {},
   "outputs": [],
   "source": [
    "final_data=final_data[[\"REGULAR_CUSTOMER\" , \"COHORT\" , \"QUARTILE\" ,  \"CUSTOMER_ID\" ,\"Flag\" , \"WAVE\" ]]"
   ]
  },
  {
   "cell_type": "code",
   "execution_count": 283,
   "metadata": {},
   "outputs": [],
   "source": [
    "final_data.to_csv(\"remaining_wave.csv\")"
   ]
  },
  {
   "cell_type": "code",
   "execution_count": null,
   "metadata": {},
   "outputs": [],
   "source": []
  }
 ],
 "metadata": {
  "kernelspec": {
   "display_name": "Python 3",
   "language": "python",
   "name": "python3"
  },
  "language_info": {
   "codemirror_mode": {
    "name": "ipython",
    "version": 3
   },
   "file_extension": ".py",
   "mimetype": "text/x-python",
   "name": "python",
   "nbconvert_exporter": "python",
   "pygments_lexer": "ipython3",
   "version": "3.9.19"
  }
 },
 "nbformat": 4,
 "nbformat_minor": 2
}
